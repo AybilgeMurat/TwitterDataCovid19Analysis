{
 "cells": [
  {
   "cell_type": "markdown",
   "metadata": {
    "scrolled": true
   },
   "source": [
    "# Duygu Analizi"
   ]
  },
  {
   "cell_type": "code",
   "execution_count": 1,
   "metadata": {},
   "outputs": [],
   "source": [
    "import sys\n",
    "import tweepy\n",
    "import matplotlib.pyplot as plt\n",
    "import pandas as pd\n",
    "import numpy as np\n",
    "import os\n",
    "import pycountry\n",
    "import re\n",
    "import string\n",
    "\n",
    "from wordcloud import WordCloud, STOPWORDS\n",
    "from PIL import Image\n",
    "from nltk.sentiment.vader import SentimentIntensityAnalyzer\n",
    "from langdetect import detect\n",
    "from nltk.stem import SnowballStemmer"
   ]
  },
  {
   "cell_type": "code",
   "execution_count": 7,
   "metadata": {},
   "outputs": [],
   "source": [
    "consumerKey=\"yourkey\"\n",
    "consumerSecret=\"yourkey\"\n",
    "accessToken=\"yourkey\"\n",
    "accessTokenSecret= \"yourkey\" \n",
    "\n",
    "auth = tweepy.OAuthHandler(consumerKey, consumerSecret)\n",
    "auth.set_access_token(accessToken, accessTokenSecret)\n",
    "api = tweepy.API(auth)"
   ]
  },
  {
   "cell_type": "code",
   "execution_count": 8,
   "metadata": {},
   "outputs": [
    {
     "name": "stdout",
     "output_type": "stream",
     "text": [
      "Please enter keyword or hashtag to search: coronavirus\n",
      "Please enter how many tweets to analyze: 2000\n"
     ]
    }
   ],
   "source": [
    "def percentage(part,whole):\n",
    "    return 100 * float(part)/float(whole) \n",
    "\n",
    "keyword = input(\"Please enter keyword or hashtag to search: \")\n",
    "noOfTweet = int(input (\"Please enter how many tweets to analyze: \"))\n",
    "\n",
    "\n",
    "tweets = tweepy.Cursor(api.search, q=keyword,lang = \"en\").items(noOfTweet)\n",
    "positive  = 0\n",
    "negative = 0\n",
    "neutral = 0\n",
    "polarity = 0\n",
    "tweet_list = []\n",
    "neutral_list = []\n",
    "negative_list = []\n",
    "positive_list = []\n",
    "\n",
    "for tweet in tweets:\n",
    "    tweet_list.append(tweet.text)\n",
    "    analysis = TextBlob(tweet.text)\n",
    "    score = SentimentIntensityAnalyzer().polarity_scores(tweet.text)\n",
    "    neg = score['neg']\n",
    "    neu = score['neu']\n",
    "    pos = score['pos']\n",
    "    comp = score['compound']\n",
    "    polarity += analysis.sentiment.polarity\n",
    "    \n",
    "    if neg > pos:\n",
    "        negative_list.append(tweet.text)\n",
    "        negative += 1\n",
    "\n",
    "    elif pos > neg:\n",
    "        positive_list.append(tweet.text)\n",
    "        positive += 1\n",
    "    \n",
    "    elif pos == neg:\n",
    "        neutral_list.append(tweet.text)\n",
    "        neutral += 1\n",
    "\n",
    "positive = percentage(positive, noOfTweet)\n",
    "negative = percentage(negative, noOfTweet)\n",
    "neutral = percentage(neutral, noOfTweet)\n",
    "polarity = percentage(polarity, noOfTweet)\n",
    "positive = format(positive, '.1f')\n",
    "negative = format(negative, '.1f')\n",
    "neutral = format(neutral, '.1f')"
   ]
  },
  {
   "cell_type": "code",
   "execution_count": 9,
   "metadata": {
    "scrolled": true
   },
   "outputs": [
    {
     "name": "stdout",
     "output_type": "stream",
     "text": [
      "total number:  2000\n",
      "positive number:  519\n",
      "negative number:  776\n",
      "neutral number:  705\n"
     ]
    }
   ],
   "source": [
    "tweet_list = pd.DataFrame(tweet_list)\n",
    "neutral_list = pd.DataFrame(neutral_list)\n",
    "negative_list = pd.DataFrame(negative_list)\n",
    "positive_list = pd.DataFrame(positive_list)\n",
    "print(\"total number: \",len(tweet_list))\n",
    "print(\"positive number: \",len(positive_list))\n",
    "print(\"negative number: \", len(negative_list))\n",
    "print(\"neutral number: \",len(neutral_list))"
   ]
  },
  {
   "cell_type": "code",
   "execution_count": 10,
   "metadata": {
    "scrolled": false
   },
   "outputs": [
    {
     "data": {
      "text/html": [
       "<div>\n",
       "<style scoped>\n",
       "    .dataframe tbody tr th:only-of-type {\n",
       "        vertical-align: middle;\n",
       "    }\n",
       "\n",
       "    .dataframe tbody tr th {\n",
       "        vertical-align: top;\n",
       "    }\n",
       "\n",
       "    .dataframe thead th {\n",
       "        text-align: right;\n",
       "    }\n",
       "</style>\n",
       "<table border=\"1\" class=\"dataframe\">\n",
       "  <thead>\n",
       "    <tr style=\"text-align: right;\">\n",
       "      <th></th>\n",
       "      <th>0</th>\n",
       "    </tr>\n",
       "  </thead>\n",
       "  <tbody>\n",
       "    <tr>\n",
       "      <td>0</td>\n",
       "      <td>RT @the_hindu: Uttar Pradesh Minister of State...</td>\n",
       "    </tr>\n",
       "    <tr>\n",
       "      <td>1</td>\n",
       "      <td>RT @Remroum: Just some of the things Israel ha...</td>\n",
       "    </tr>\n",
       "    <tr>\n",
       "      <td>2</td>\n",
       "      <td>RT @paulg: If it turns out that the coronaviru...</td>\n",
       "    </tr>\n",
       "    <tr>\n",
       "      <td>3</td>\n",
       "      <td>RT @WHO: Preliminary investigations conducted ...</td>\n",
       "    </tr>\n",
       "    <tr>\n",
       "      <td>4</td>\n",
       "      <td>RT @BrightCarbon: We are all well-adjusted to ...</td>\n",
       "    </tr>\n",
       "    <tr>\n",
       "      <td>...</td>\n",
       "      <td>...</td>\n",
       "    </tr>\n",
       "    <tr>\n",
       "      <td>1995</td>\n",
       "      <td>RT @trailerparkboys: Trailer Park Boys Public ...</td>\n",
       "    </tr>\n",
       "    <tr>\n",
       "      <td>1996</td>\n",
       "      <td>RT @LisaMarieBoothe: I often wonder how differ...</td>\n",
       "    </tr>\n",
       "    <tr>\n",
       "      <td>1997</td>\n",
       "      <td>RT @Beckett4Unite: More than fifty bus drivers...</td>\n",
       "    </tr>\n",
       "    <tr>\n",
       "      <td>1998</td>\n",
       "      <td>RT @MrsGandhi: With what face are you denying ...</td>\n",
       "    </tr>\n",
       "    <tr>\n",
       "      <td>1999</td>\n",
       "      <td>RT @TheAnuragTyagi: As,the new barrient of cor...</td>\n",
       "    </tr>\n",
       "  </tbody>\n",
       "</table>\n",
       "<p>2000 rows × 1 columns</p>\n",
       "</div>"
      ],
      "text/plain": [
       "                                                      0\n",
       "0     RT @the_hindu: Uttar Pradesh Minister of State...\n",
       "1     RT @Remroum: Just some of the things Israel ha...\n",
       "2     RT @paulg: If it turns out that the coronaviru...\n",
       "3     RT @WHO: Preliminary investigations conducted ...\n",
       "4     RT @BrightCarbon: We are all well-adjusted to ...\n",
       "...                                                 ...\n",
       "1995  RT @trailerparkboys: Trailer Park Boys Public ...\n",
       "1996  RT @LisaMarieBoothe: I often wonder how differ...\n",
       "1997  RT @Beckett4Unite: More than fifty bus drivers...\n",
       "1998  RT @MrsGandhi: With what face are you denying ...\n",
       "1999  RT @TheAnuragTyagi: As,the new barrient of cor...\n",
       "\n",
       "[2000 rows x 1 columns]"
      ]
     },
     "execution_count": 10,
     "metadata": {},
     "output_type": "execute_result"
    }
   ],
   "source": [
    "tweet_list"
   ]
  },
  {
   "cell_type": "code",
   "execution_count": 11,
   "metadata": {},
   "outputs": [
    {
     "data": {
      "image/png": "[encoded data removed]",
      "text/plain": [
       "<Figure size 432x288 with 1 Axes>"
      ]
     },
     "metadata": {},
     "output_type": "display_data"
    }
   ],
   "source": [
    "labels = ['Positive ['+str(positive)+'%]' , 'Neutral ['+str(neutral)+'%]','Negative ['+str(negative)+'%]']\n",
    "sizes = [positive, neutral, negative]\n",
    "colors = ['yellowgreen', 'blue','red']\n",
    "patches, texts = plt.pie(sizes,colors=colors, startangle=90)\n",
    "plt.style.use('default')\n",
    "plt.legend(labels)\n",
    "plt.title(\"Sentiment Analysis Result for keyword=  \"+keyword+\"\" )\n",
    "plt.axis('equal')\n",
    "plt.show()"
   ]
  },
  {
   "cell_type": "code",
   "execution_count": 13,
   "metadata": {},
   "outputs": [],
   "source": [
    "tweet_list.drop_duplicates(inplace = True)"
   ]
  },
  {
   "cell_type": "markdown",
   "metadata": {},
   "source": []
  },
  {
   "cell_type": "markdown",
   "metadata": {},
   "source": []
  },
  {
   "cell_type": "code",
   "execution_count": 14,
   "metadata": {},
   "outputs": [
    {
     "data": {
      "text/html": [
       "<div>\n",
       "<style scoped>\n",
       "    .dataframe tbody tr th:only-of-type {\n",
       "        vertical-align: middle;\n",
       "    }\n",
       "\n",
       "    .dataframe tbody tr th {\n",
       "        vertical-align: top;\n",
       "    }\n",
       "\n",
       "    .dataframe thead th {\n",
       "        text-align: right;\n",
       "    }\n",
       "</style>\n",
       "<table border=\"1\" class=\"dataframe\">\n",
       "  <thead>\n",
       "    <tr style=\"text-align: right;\">\n",
       "      <th></th>\n",
       "      <th>0</th>\n",
       "      <th>text</th>\n",
       "    </tr>\n",
       "  </thead>\n",
       "  <tbody>\n",
       "    <tr>\n",
       "      <td>0</td>\n",
       "      <td>RT @the_hindu: Uttar Pradesh Minister of State...</td>\n",
       "      <td>RT @the_hindu: Uttar Pradesh Minister of State...</td>\n",
       "    </tr>\n",
       "    <tr>\n",
       "      <td>1</td>\n",
       "      <td>RT @Remroum: Just some of the things Israel ha...</td>\n",
       "      <td>RT @Remroum: Just some of the things Israel ha...</td>\n",
       "    </tr>\n",
       "    <tr>\n",
       "      <td>2</td>\n",
       "      <td>RT @paulg: If it turns out that the coronaviru...</td>\n",
       "      <td>RT @paulg: If it turns out that the coronaviru...</td>\n",
       "    </tr>\n",
       "    <tr>\n",
       "      <td>3</td>\n",
       "      <td>RT @WHO: Preliminary investigations conducted ...</td>\n",
       "      <td>RT @WHO: Preliminary investigations conducted ...</td>\n",
       "    </tr>\n",
       "    <tr>\n",
       "      <td>4</td>\n",
       "      <td>RT @BrightCarbon: We are all well-adjusted to ...</td>\n",
       "      <td>RT @BrightCarbon: We are all well-adjusted to ...</td>\n",
       "    </tr>\n",
       "    <tr>\n",
       "      <td>...</td>\n",
       "      <td>...</td>\n",
       "      <td>...</td>\n",
       "    </tr>\n",
       "    <tr>\n",
       "      <td>1968</td>\n",
       "      <td>RT @washingtonpost: Cuomo to receive $5.1 mill...</td>\n",
       "      <td>RT @washingtonpost: Cuomo to receive $5.1 mill...</td>\n",
       "    </tr>\n",
       "    <tr>\n",
       "      <td>1976</td>\n",
       "      <td>Covid19 Updates(INDIA)\\n\\nLast updated on : 19...</td>\n",
       "      <td>Covid19 Updates(INDIA)\\n\\nLast updated on : 19...</td>\n",
       "    </tr>\n",
       "    <tr>\n",
       "      <td>1980</td>\n",
       "      <td>Nevada GOP candidate for governor who hadn't b...</td>\n",
       "      <td>Nevada GOP candidate for governor who hadn't b...</td>\n",
       "    </tr>\n",
       "    <tr>\n",
       "      <td>1991</td>\n",
       "      <td>RT @TRTWorldNow: Covid-19 has killed over 3.4M...</td>\n",
       "      <td>RT @TRTWorldNow: Covid-19 has killed over 3.4M...</td>\n",
       "    </tr>\n",
       "    <tr>\n",
       "      <td>1994</td>\n",
       "      <td>RT @CNNnews18: #BREAKING - Minister of State w...</td>\n",
       "      <td>RT @CNNnews18: #BREAKING - Minister of State w...</td>\n",
       "    </tr>\n",
       "  </tbody>\n",
       "</table>\n",
       "<p>933 rows × 2 columns</p>\n",
       "</div>"
      ],
      "text/plain": [
       "                                                      0  \\\n",
       "0     RT @the_hindu: Uttar Pradesh Minister of State...   \n",
       "1     RT @Remroum: Just some of the things Israel ha...   \n",
       "2     RT @paulg: If it turns out that the coronaviru...   \n",
       "3     RT @WHO: Preliminary investigations conducted ...   \n",
       "4     RT @BrightCarbon: We are all well-adjusted to ...   \n",
       "...                                                 ...   \n",
       "1968  RT @washingtonpost: Cuomo to receive $5.1 mill...   \n",
       "1976  Covid19 Updates(INDIA)\\n\\nLast updated on : 19...   \n",
       "1980  Nevada GOP candidate for governor who hadn't b...   \n",
       "1991  RT @TRTWorldNow: Covid-19 has killed over 3.4M...   \n",
       "1994  RT @CNNnews18: #BREAKING - Minister of State w...   \n",
       "\n",
       "                                                   text  \n",
       "0     RT @the_hindu: Uttar Pradesh Minister of State...  \n",
       "1     RT @Remroum: Just some of the things Israel ha...  \n",
       "2     RT @paulg: If it turns out that the coronaviru...  \n",
       "3     RT @WHO: Preliminary investigations conducted ...  \n",
       "4     RT @BrightCarbon: We are all well-adjusted to ...  \n",
       "...                                                 ...  \n",
       "1968  RT @washingtonpost: Cuomo to receive $5.1 mill...  \n",
       "1976  Covid19 Updates(INDIA)\\n\\nLast updated on : 19...  \n",
       "1980  Nevada GOP candidate for governor who hadn't b...  \n",
       "1991  RT @TRTWorldNow: Covid-19 has killed over 3.4M...  \n",
       "1994  RT @CNNnews18: #BREAKING - Minister of State w...  \n",
       "\n",
       "[933 rows x 2 columns]"
      ]
     },
     "execution_count": 14,
     "metadata": {},
     "output_type": "execute_result"
    }
   ],
   "source": [
    "tw_list = pd.DataFrame(tweet_list)\n",
    "tw_list[\"text\"] = tw_list[0]\n",
    "tw_list"
   ]
  },
  {
   "cell_type": "code",
   "execution_count": null,
   "metadata": {},
   "outputs": [],
   "source": []
  },
  {
   "cell_type": "code",
   "execution_count": 16,
   "metadata": {},
   "outputs": [
    {
     "data": {
      "text/html": [
       "<div>\n",
       "<style scoped>\n",
       "    .dataframe tbody tr th:only-of-type {\n",
       "        vertical-align: middle;\n",
       "    }\n",
       "\n",
       "    .dataframe tbody tr th {\n",
       "        vertical-align: top;\n",
       "    }\n",
       "\n",
       "    .dataframe thead th {\n",
       "        text-align: right;\n",
       "    }\n",
       "</style>\n",
       "<table border=\"1\" class=\"dataframe\">\n",
       "  <thead>\n",
       "    <tr style=\"text-align: right;\">\n",
       "      <th></th>\n",
       "      <th>0</th>\n",
       "      <th>text</th>\n",
       "    </tr>\n",
       "  </thead>\n",
       "  <tbody>\n",
       "    <tr>\n",
       "      <td>0</td>\n",
       "      <td>RT @the_hindu: Uttar Pradesh Minister of State...</td>\n",
       "      <td>uttar pradesh minister of state for revenue a...</td>\n",
       "    </tr>\n",
       "    <tr>\n",
       "      <td>1</td>\n",
       "      <td>RT @Remroum: Just some of the things Israel ha...</td>\n",
       "      <td>just some of the things israel has bombed in ...</td>\n",
       "    </tr>\n",
       "    <tr>\n",
       "      <td>2</td>\n",
       "      <td>RT @paulg: If it turns out that the coronaviru...</td>\n",
       "      <td>if it turns out that the coronavirus did esca...</td>\n",
       "    </tr>\n",
       "    <tr>\n",
       "      <td>3</td>\n",
       "      <td>RT @WHO: Preliminary investigations conducted ...</td>\n",
       "      <td>preliminary investigations conducted by the c...</td>\n",
       "    </tr>\n",
       "    <tr>\n",
       "      <td>4</td>\n",
       "      <td>RT @BrightCarbon: We are all well-adjusted to ...</td>\n",
       "      <td>we are all well adjusted to  wfh  but how eff...</td>\n",
       "    </tr>\n",
       "    <tr>\n",
       "      <td>5</td>\n",
       "      <td>RT @CandiceMalcolm: Meanwhile, in non-CBC land...</td>\n",
       "      <td>meanwhile  in non cbc land  one of the develo...</td>\n",
       "    </tr>\n",
       "    <tr>\n",
       "      <td>6</td>\n",
       "      <td>RT @mlambrecht: Beautiful new US Coronavirus V...</td>\n",
       "      <td>beautiful new us coronavirus vaccinations das...</td>\n",
       "    </tr>\n",
       "    <tr>\n",
       "      <td>7</td>\n",
       "      <td>RT @AskAnshul: The virus is not Chinese but it...</td>\n",
       "      <td>the virus is not chinese but its variant is i...</td>\n",
       "    </tr>\n",
       "    <tr>\n",
       "      <td>8</td>\n",
       "      <td>RT @ndtv: Meerut Twins, 24, Caught Covid Day A...</td>\n",
       "      <td>meerut twins  24  caught covid day after birt...</td>\n",
       "    </tr>\n",
       "    <tr>\n",
       "      <td>10</td>\n",
       "      <td>RT @ReutersScience: A top medical organization...</td>\n",
       "      <td>a top medical organization has thrown its wei...</td>\n",
       "    </tr>\n",
       "  </tbody>\n",
       "</table>\n",
       "</div>"
      ],
      "text/plain": [
       "                                                    0  \\\n",
       "0   RT @the_hindu: Uttar Pradesh Minister of State...   \n",
       "1   RT @Remroum: Just some of the things Israel ha...   \n",
       "2   RT @paulg: If it turns out that the coronaviru...   \n",
       "3   RT @WHO: Preliminary investigations conducted ...   \n",
       "4   RT @BrightCarbon: We are all well-adjusted to ...   \n",
       "5   RT @CandiceMalcolm: Meanwhile, in non-CBC land...   \n",
       "6   RT @mlambrecht: Beautiful new US Coronavirus V...   \n",
       "7   RT @AskAnshul: The virus is not Chinese but it...   \n",
       "8   RT @ndtv: Meerut Twins, 24, Caught Covid Day A...   \n",
       "10  RT @ReutersScience: A top medical organization...   \n",
       "\n",
       "                                                 text  \n",
       "0    uttar pradesh minister of state for revenue a...  \n",
       "1    just some of the things israel has bombed in ...  \n",
       "2    if it turns out that the coronavirus did esca...  \n",
       "3    preliminary investigations conducted by the c...  \n",
       "4    we are all well adjusted to  wfh  but how eff...  \n",
       "5    meanwhile  in non cbc land  one of the develo...  \n",
       "6    beautiful new us coronavirus vaccinations das...  \n",
       "7    the virus is not chinese but its variant is i...  \n",
       "8    meerut twins  24  caught covid day after birt...  \n",
       "10   a top medical organization has thrown its wei...  "
      ]
     },
     "execution_count": 16,
     "metadata": {},
     "output_type": "execute_result"
    }
   ],
   "source": [
    "tw_list = pd.DataFrame(tweet_list)\n",
    "tw_list[\"text\"] = tw_list[0]\n",
    "\n",
    "remove_rt = lambda x: re.sub('RT @\\w+: ',\" \",x)\n",
    "rt = lambda x: re.sub(\"(@[A-Za-z0-9]+)|([^0-9A-Za-z \\t])|(\\w+:\\/\\/\\S+)\",\" \",x)\n",
    "tw_list[\"text\"] = tw_list.text.map(remove_rt).map(rt)\n",
    "tw_list[\"text\"] = tw_list.text.str.lower()\n",
    "tw_list.head(10)"
   ]
  },
  {
   "cell_type": "code",
   "execution_count": 17,
   "metadata": {},
   "outputs": [
    {
     "data": {
      "text/html": [
       "<div>\n",
       "<style scoped>\n",
       "    .dataframe tbody tr th:only-of-type {\n",
       "        vertical-align: middle;\n",
       "    }\n",
       "\n",
       "    .dataframe tbody tr th {\n",
       "        vertical-align: top;\n",
       "    }\n",
       "\n",
       "    .dataframe thead th {\n",
       "        text-align: right;\n",
       "    }\n",
       "</style>\n",
       "<table border=\"1\" class=\"dataframe\">\n",
       "  <thead>\n",
       "    <tr style=\"text-align: right;\">\n",
       "      <th></th>\n",
       "      <th>0</th>\n",
       "      <th>text</th>\n",
       "      <th>polarity</th>\n",
       "      <th>subjectivity</th>\n",
       "      <th>sentiment</th>\n",
       "      <th>neg</th>\n",
       "      <th>neu</th>\n",
       "      <th>pos</th>\n",
       "      <th>compound</th>\n",
       "    </tr>\n",
       "  </thead>\n",
       "  <tbody>\n",
       "    <tr>\n",
       "      <td>0</td>\n",
       "      <td>RT @the_hindu: Uttar Pradesh Minister of State...</td>\n",
       "      <td>uttar pradesh minister of state for revenue a...</td>\n",
       "      <td>0.000000</td>\n",
       "      <td>0.000000</td>\n",
       "      <td>negative</td>\n",
       "      <td>0.167</td>\n",
       "      <td>0.833</td>\n",
       "      <td>0.000</td>\n",
       "      <td>-0.5574</td>\n",
       "    </tr>\n",
       "    <tr>\n",
       "      <td>1</td>\n",
       "      <td>RT @Remroum: Just some of the things Israel ha...</td>\n",
       "      <td>just some of the things israel has bombed in ...</td>\n",
       "      <td>0.000000</td>\n",
       "      <td>0.000000</td>\n",
       "      <td>neutral</td>\n",
       "      <td>0.000</td>\n",
       "      <td>1.000</td>\n",
       "      <td>0.000</td>\n",
       "      <td>0.0000</td>\n",
       "    </tr>\n",
       "    <tr>\n",
       "      <td>2</td>\n",
       "      <td>RT @paulg: If it turns out that the coronaviru...</td>\n",
       "      <td>if it turns out that the coronavirus did esca...</td>\n",
       "      <td>0.000000</td>\n",
       "      <td>0.000000</td>\n",
       "      <td>positive</td>\n",
       "      <td>0.000</td>\n",
       "      <td>0.879</td>\n",
       "      <td>0.121</td>\n",
       "      <td>0.2263</td>\n",
       "    </tr>\n",
       "    <tr>\n",
       "      <td>3</td>\n",
       "      <td>RT @WHO: Preliminary investigations conducted ...</td>\n",
       "      <td>preliminary investigations conducted by the c...</td>\n",
       "      <td>-0.012500</td>\n",
       "      <td>0.145833</td>\n",
       "      <td>positive</td>\n",
       "      <td>0.101</td>\n",
       "      <td>0.780</td>\n",
       "      <td>0.119</td>\n",
       "      <td>0.1027</td>\n",
       "    </tr>\n",
       "    <tr>\n",
       "      <td>4</td>\n",
       "      <td>RT @BrightCarbon: We are all well-adjusted to ...</td>\n",
       "      <td>we are all well adjusted to  wfh  but how eff...</td>\n",
       "      <td>0.600000</td>\n",
       "      <td>0.800000</td>\n",
       "      <td>positive</td>\n",
       "      <td>0.000</td>\n",
       "      <td>0.769</td>\n",
       "      <td>0.231</td>\n",
       "      <td>0.6908</td>\n",
       "    </tr>\n",
       "    <tr>\n",
       "      <td>5</td>\n",
       "      <td>RT @CandiceMalcolm: Meanwhile, in non-CBC land...</td>\n",
       "      <td>meanwhile  in non cbc land  one of the develo...</td>\n",
       "      <td>0.000000</td>\n",
       "      <td>0.000000</td>\n",
       "      <td>neutral</td>\n",
       "      <td>0.000</td>\n",
       "      <td>1.000</td>\n",
       "      <td>0.000</td>\n",
       "      <td>0.0000</td>\n",
       "    </tr>\n",
       "    <tr>\n",
       "      <td>6</td>\n",
       "      <td>RT @mlambrecht: Beautiful new US Coronavirus V...</td>\n",
       "      <td>beautiful new us coronavirus vaccinations das...</td>\n",
       "      <td>0.328788</td>\n",
       "      <td>0.484848</td>\n",
       "      <td>positive</td>\n",
       "      <td>0.000</td>\n",
       "      <td>0.804</td>\n",
       "      <td>0.196</td>\n",
       "      <td>0.5994</td>\n",
       "    </tr>\n",
       "    <tr>\n",
       "      <td>7</td>\n",
       "      <td>RT @AskAnshul: The virus is not Chinese but it...</td>\n",
       "      <td>the virus is not chinese but its variant is i...</td>\n",
       "      <td>0.000000</td>\n",
       "      <td>0.000000</td>\n",
       "      <td>neutral</td>\n",
       "      <td>0.000</td>\n",
       "      <td>1.000</td>\n",
       "      <td>0.000</td>\n",
       "      <td>0.0000</td>\n",
       "    </tr>\n",
       "    <tr>\n",
       "      <td>8</td>\n",
       "      <td>RT @ndtv: Meerut Twins, 24, Caught Covid Day A...</td>\n",
       "      <td>meerut twins  24  caught covid day after birt...</td>\n",
       "      <td>0.000000</td>\n",
       "      <td>0.000000</td>\n",
       "      <td>negative</td>\n",
       "      <td>0.265</td>\n",
       "      <td>0.735</td>\n",
       "      <td>0.000</td>\n",
       "      <td>-0.5574</td>\n",
       "    </tr>\n",
       "    <tr>\n",
       "      <td>10</td>\n",
       "      <td>RT @ReutersScience: A top medical organization...</td>\n",
       "      <td>a top medical organization has thrown its wei...</td>\n",
       "      <td>0.033333</td>\n",
       "      <td>0.400000</td>\n",
       "      <td>negative</td>\n",
       "      <td>0.101</td>\n",
       "      <td>0.808</td>\n",
       "      <td>0.091</td>\n",
       "      <td>-0.0516</td>\n",
       "    </tr>\n",
       "  </tbody>\n",
       "</table>\n",
       "</div>"
      ],
      "text/plain": [
       "                                                    0  \\\n",
       "0   RT @the_hindu: Uttar Pradesh Minister of State...   \n",
       "1   RT @Remroum: Just some of the things Israel ha...   \n",
       "2   RT @paulg: If it turns out that the coronaviru...   \n",
       "3   RT @WHO: Preliminary investigations conducted ...   \n",
       "4   RT @BrightCarbon: We are all well-adjusted to ...   \n",
       "5   RT @CandiceMalcolm: Meanwhile, in non-CBC land...   \n",
       "6   RT @mlambrecht: Beautiful new US Coronavirus V...   \n",
       "7   RT @AskAnshul: The virus is not Chinese but it...   \n",
       "8   RT @ndtv: Meerut Twins, 24, Caught Covid Day A...   \n",
       "10  RT @ReutersScience: A top medical organization...   \n",
       "\n",
       "                                                 text  polarity  subjectivity  \\\n",
       "0    uttar pradesh minister of state for revenue a...  0.000000      0.000000   \n",
       "1    just some of the things israel has bombed in ...  0.000000      0.000000   \n",
       "2    if it turns out that the coronavirus did esca...  0.000000      0.000000   \n",
       "3    preliminary investigations conducted by the c... -0.012500      0.145833   \n",
       "4    we are all well adjusted to  wfh  but how eff...  0.600000      0.800000   \n",
       "5    meanwhile  in non cbc land  one of the develo...  0.000000      0.000000   \n",
       "6    beautiful new us coronavirus vaccinations das...  0.328788      0.484848   \n",
       "7    the virus is not chinese but its variant is i...  0.000000      0.000000   \n",
       "8    meerut twins  24  caught covid day after birt...  0.000000      0.000000   \n",
       "10   a top medical organization has thrown its wei...  0.033333      0.400000   \n",
       "\n",
       "   sentiment    neg    neu    pos  compound  \n",
       "0   negative  0.167  0.833  0.000   -0.5574  \n",
       "1    neutral  0.000  1.000  0.000    0.0000  \n",
       "2   positive  0.000  0.879  0.121    0.2263  \n",
       "3   positive  0.101  0.780  0.119    0.1027  \n",
       "4   positive  0.000  0.769  0.231    0.6908  \n",
       "5    neutral  0.000  1.000  0.000    0.0000  \n",
       "6   positive  0.000  0.804  0.196    0.5994  \n",
       "7    neutral  0.000  1.000  0.000    0.0000  \n",
       "8   negative  0.265  0.735  0.000   -0.5574  \n",
       "10  negative  0.101  0.808  0.091   -0.0516  "
      ]
     },
     "execution_count": 17,
     "metadata": {},
     "output_type": "execute_result"
    }
   ],
   "source": [
    "tw_list[['polarity', 'subjectivity']] = tw_list['text'].apply(lambda Text: pd.Series(TextBlob(Text).sentiment))\n",
    "for index, row in tw_list['text'].iteritems():\n",
    "    score = SentimentIntensityAnalyzer().polarity_scores(row)\n",
    "    neg = score['neg']\n",
    "    neu = score['neu']\n",
    "    pos = score['pos']\n",
    "    comp = score['compound']\n",
    "    if neg > pos:\n",
    "        tw_list.loc[index, 'sentiment'] = \"negative\"\n",
    "    elif pos > neg:\n",
    "        tw_list.loc[index, 'sentiment'] = \"positive\"\n",
    "    else:\n",
    "        tw_list.loc[index, 'sentiment'] = \"neutral\"\n",
    "    tw_list.loc[index, 'neg'] = neg\n",
    "    tw_list.loc[index, 'neu'] = neu\n",
    "    tw_list.loc[index, 'pos'] = pos\n",
    "    tw_list.loc[index, 'compound'] = comp\n",
    "\n",
    "tw_list.head(10)"
   ]
  },
  {
   "cell_type": "code",
   "execution_count": 18,
   "metadata": {},
   "outputs": [],
   "source": [
    "tw_list_negative = tw_list[tw_list[\"sentiment\"]==\"negative\"]\n",
    "tw_list_positive = tw_list[tw_list[\"sentiment\"]==\"positive\"]\n",
    "tw_list_neutral = tw_list[tw_list[\"sentiment\"]==\"neutral\"]"
   ]
  },
  {
   "cell_type": "code",
   "execution_count": 19,
   "metadata": {},
   "outputs": [],
   "source": [
    "def count_values_in_column(data,feature):\n",
    "    total=data.loc[:,feature].value_counts(dropna=False)\n",
    "    percentage=round(data.loc[:,feature].value_counts(dropna=False,normalize=True)*100,2)\n",
    "    return pd.concat([total,percentage],axis=1,keys=['Total','Percentage'])"
   ]
  },
  {
   "cell_type": "code",
   "execution_count": 20,
   "metadata": {},
   "outputs": [
    {
     "data": {
      "text/html": [
       "<div>\n",
       "<style scoped>\n",
       "    .dataframe tbody tr th:only-of-type {\n",
       "        vertical-align: middle;\n",
       "    }\n",
       "\n",
       "    .dataframe tbody tr th {\n",
       "        vertical-align: top;\n",
       "    }\n",
       "\n",
       "    .dataframe thead th {\n",
       "        text-align: right;\n",
       "    }\n",
       "</style>\n",
       "<table border=\"1\" class=\"dataframe\">\n",
       "  <thead>\n",
       "    <tr style=\"text-align: right;\">\n",
       "      <th></th>\n",
       "      <th>Total</th>\n",
       "      <th>Percentage</th>\n",
       "    </tr>\n",
       "  </thead>\n",
       "  <tbody>\n",
       "    <tr>\n",
       "      <td>neutral</td>\n",
       "      <td>326</td>\n",
       "      <td>34.94</td>\n",
       "    </tr>\n",
       "    <tr>\n",
       "      <td>negative</td>\n",
       "      <td>312</td>\n",
       "      <td>33.44</td>\n",
       "    </tr>\n",
       "    <tr>\n",
       "      <td>positive</td>\n",
       "      <td>295</td>\n",
       "      <td>31.62</td>\n",
       "    </tr>\n",
       "  </tbody>\n",
       "</table>\n",
       "</div>"
      ],
      "text/plain": [
       "          Total  Percentage\n",
       "neutral     326       34.94\n",
       "negative    312       33.44\n",
       "positive    295       31.62"
      ]
     },
     "execution_count": 20,
     "metadata": {},
     "output_type": "execute_result"
    }
   ],
   "source": [
    "count_values_in_column(tw_list,\"sentiment\")"
   ]
  },
  {
   "cell_type": "code",
   "execution_count": 41,
   "metadata": {},
   "outputs": [],
   "source": [
    "duygu_freq = tw_list.groupby(\"sentiment\").count()[\"text\"]"
   ]
  },
  {
   "cell_type": "code",
   "execution_count": 42,
   "metadata": {},
   "outputs": [
    {
     "data": {
      "image/png": "[encoded data removed]",
      "text/plain": [
       "<Figure size 640x480 with 1 Axes>"
      ]
     },
     "metadata": {},
     "output_type": "display_data"
    }
   ],
   "source": [
    "duygu_freq.plot.bar(x = \"sentiment\",y = \"text\");"
   ]
  },
  {
   "cell_type": "code",
   "execution_count": null,
   "metadata": {
    "scrolled": false
   },
   "outputs": [],
   "source": []
  },
  {
   "cell_type": "code",
   "execution_count": null,
   "metadata": {},
   "outputs": [],
   "source": []
  },
  {
   "cell_type": "code",
   "execution_count": null,
   "metadata": {},
   "outputs": [],
   "source": []
  },
  {
   "cell_type": "code",
   "execution_count": null,
   "metadata": {},
   "outputs": [],
   "source": []
  },
  {
   "cell_type": "code",
   "execution_count": null,
   "metadata": {},
   "outputs": [],
   "source": []
  },
  {
   "cell_type": "code",
   "execution_count": null,
   "metadata": {},
   "outputs": [],
   "source": []
  },
  {
   "cell_type": "code",
   "execution_count": null,
   "metadata": {},
   "outputs": [],
   "source": []
  },
  {
   "cell_type": "code",
   "execution_count": null,
   "metadata": {
    "scrolled": true
   },
   "outputs": [],
   "source": []
  },
  {
   "cell_type": "code",
   "execution_count": null,
   "metadata": {},
   "outputs": [],
   "source": []
  },
  {
   "cell_type": "code",
   "execution_count": null,
   "metadata": {},
   "outputs": [],
   "source": []
  },
  {
   "cell_type": "code",
   "execution_count": null,
   "metadata": {},
   "outputs": [],
   "source": []
  },
  {
   "cell_type": "code",
   "execution_count": null,
   "metadata": {},
   "outputs": [],
   "source": []
  },
  {
   "cell_type": "code",
   "execution_count": null,
   "metadata": {},
   "outputs": [],
   "source": []
  },
  {
   "cell_type": "code",
   "execution_count": null,
   "metadata": {},
   "outputs": [],
   "source": []
  },
  {
   "cell_type": "code",
   "execution_count": null,
   "metadata": {
    "scrolled": false
   },
   "outputs": [],
   "source": []
  },
  {
   "cell_type": "code",
   "execution_count": null,
   "metadata": {},
   "outputs": [],
   "source": []
  },
  {
   "cell_type": "code",
   "execution_count": null,
   "metadata": {},
   "outputs": [],
   "source": []
  },
  {
   "cell_type": "code",
   "execution_count": null,
   "metadata": {},
   "outputs": [],
   "source": []
  },
  {
   "cell_type": "code",
   "execution_count": null,
   "metadata": {},
   "outputs": [],
   "source": []
  },
  {
   "cell_type": "code",
   "execution_count": null,
   "metadata": {},
   "outputs": [],
   "source": []
  },
  {
   "cell_type": "code",
   "execution_count": null,
   "metadata": {},
   "outputs": [],
   "source": []
  },
  {
   "cell_type": "code",
   "execution_count": null,
   "metadata": {},
   "outputs": [],
   "source": []
  },
  {
   "cell_type": "code",
   "execution_count": null,
   "metadata": {},
   "outputs": [],
   "source": []
  }
 ],
 "metadata": {
  "kernelspec": {
   "display_name": "Python 3",
   "language": "python",
   "name": "python3"
  },
  "language_info": {
   "codemirror_mode": {
    "name": "ipython",
    "version": 3
   },
   "file_extension": ".py",
   "mimetype": "text/x-python",
   "name": "python",
   "nbconvert_exporter": "python",
   "pygments_lexer": "ipython3",
   "version": "3.7.4"
  }
 },
 "nbformat": 4,
 "nbformat_minor": 4
}
